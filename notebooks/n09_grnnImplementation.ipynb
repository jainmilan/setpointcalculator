{
 "cells": [
  {
   "cell_type": "code",
   "execution_count": 31,
   "metadata": {},
   "outputs": [],
   "source": [
    "# Import Libraries\n",
    "import itertools\n",
    "import numpy as np\n",
    "import pandas as pd\n",
    "\n",
    "import matplotlib.pyplot as plt\n",
    "import matplotlib.dates as mdates"
   ]
  },
  {
   "cell_type": "code",
   "execution_count": 32,
   "metadata": {},
   "outputs": [],
   "source": [
    "from sklearn import datasets, preprocessing\n",
    "from sklearn.model_selection import train_test_split, RandomizedSearchCV\n",
    "from neupy import algorithms"
   ]
  },
  {
   "cell_type": "code",
   "execution_count": 33,
   "metadata": {},
   "outputs": [
    {
     "data": {
      "text/html": [
       "<div>\n",
       "<style scoped>\n",
       "    .dataframe tbody tr th:only-of-type {\n",
       "        vertical-align: middle;\n",
       "    }\n",
       "\n",
       "    .dataframe tbody tr th {\n",
       "        vertical-align: top;\n",
       "    }\n",
       "\n",
       "    .dataframe thead th {\n",
       "        text-align: right;\n",
       "    }\n",
       "</style>\n",
       "<table border=\"1\" class=\"dataframe\">\n",
       "  <thead>\n",
       "    <tr style=\"text-align: right;\">\n",
       "      <th></th>\n",
       "      <th>Temperature</th>\n",
       "      <th>Dew Point</th>\n",
       "      <th>Relative Humidity</th>\n",
       "      <th>Month</th>\n",
       "      <th>ActivityLevel</th>\n",
       "      <th>Clothing</th>\n",
       "      <th>SR</th>\n",
       "      <th>SPT_Mi</th>\n",
       "      <th>SPT</th>\n",
       "      <th>SPT_Ma</th>\n",
       "      <th>adjustedSPT</th>\n",
       "      <th>SPT_Random</th>\n",
       "      <th>Occupancy</th>\n",
       "    </tr>\n",
       "  </thead>\n",
       "  <tbody>\n",
       "    <tr>\n",
       "      <td>1998-01-01 00:00:00</td>\n",
       "      <td>15.8</td>\n",
       "      <td>10.4</td>\n",
       "      <td>78.77</td>\n",
       "      <td>1</td>\n",
       "      <td>1.3</td>\n",
       "      <td>0.78</td>\n",
       "      <td>0.0</td>\n",
       "      <td>68</td>\n",
       "      <td>71</td>\n",
       "      <td>75</td>\n",
       "      <td>75.0</td>\n",
       "      <td>73</td>\n",
       "      <td>0</td>\n",
       "    </tr>\n",
       "    <tr>\n",
       "      <td>1998-01-01 00:30:00</td>\n",
       "      <td>15.8</td>\n",
       "      <td>10.4</td>\n",
       "      <td>78.81</td>\n",
       "      <td>1</td>\n",
       "      <td>1.3</td>\n",
       "      <td>0.78</td>\n",
       "      <td>0.0</td>\n",
       "      <td>68</td>\n",
       "      <td>71</td>\n",
       "      <td>75</td>\n",
       "      <td>75.0</td>\n",
       "      <td>71</td>\n",
       "      <td>0</td>\n",
       "    </tr>\n",
       "    <tr>\n",
       "      <td>1998-01-01 01:00:00</td>\n",
       "      <td>14.0</td>\n",
       "      <td>8.6</td>\n",
       "      <td>76.14</td>\n",
       "      <td>1</td>\n",
       "      <td>1.3</td>\n",
       "      <td>0.78</td>\n",
       "      <td>0.0</td>\n",
       "      <td>68</td>\n",
       "      <td>71</td>\n",
       "      <td>75</td>\n",
       "      <td>75.0</td>\n",
       "      <td>72</td>\n",
       "      <td>1</td>\n",
       "    </tr>\n",
       "    <tr>\n",
       "      <td>1998-01-01 01:30:00</td>\n",
       "      <td>14.0</td>\n",
       "      <td>8.6</td>\n",
       "      <td>76.16</td>\n",
       "      <td>1</td>\n",
       "      <td>1.3</td>\n",
       "      <td>0.78</td>\n",
       "      <td>0.0</td>\n",
       "      <td>68</td>\n",
       "      <td>71</td>\n",
       "      <td>75</td>\n",
       "      <td>75.0</td>\n",
       "      <td>68</td>\n",
       "      <td>1</td>\n",
       "    </tr>\n",
       "    <tr>\n",
       "      <td>1998-01-01 02:00:00</td>\n",
       "      <td>14.0</td>\n",
       "      <td>8.6</td>\n",
       "      <td>80.40</td>\n",
       "      <td>1</td>\n",
       "      <td>1.3</td>\n",
       "      <td>0.78</td>\n",
       "      <td>0.0</td>\n",
       "      <td>68</td>\n",
       "      <td>71</td>\n",
       "      <td>75</td>\n",
       "      <td>75.0</td>\n",
       "      <td>69</td>\n",
       "      <td>0</td>\n",
       "    </tr>\n",
       "  </tbody>\n",
       "</table>\n",
       "</div>"
      ],
      "text/plain": [
       "                     Temperature  Dew Point  Relative Humidity  Month  \\\n",
       "1998-01-01 00:00:00         15.8       10.4              78.77      1   \n",
       "1998-01-01 00:30:00         15.8       10.4              78.81      1   \n",
       "1998-01-01 01:00:00         14.0        8.6              76.14      1   \n",
       "1998-01-01 01:30:00         14.0        8.6              76.16      1   \n",
       "1998-01-01 02:00:00         14.0        8.6              80.40      1   \n",
       "\n",
       "                     ActivityLevel  Clothing   SR  SPT_Mi  SPT  SPT_Ma  \\\n",
       "1998-01-01 00:00:00            1.3      0.78  0.0      68   71      75   \n",
       "1998-01-01 00:30:00            1.3      0.78  0.0      68   71      75   \n",
       "1998-01-01 01:00:00            1.3      0.78  0.0      68   71      75   \n",
       "1998-01-01 01:30:00            1.3      0.78  0.0      68   71      75   \n",
       "1998-01-01 02:00:00            1.3      0.78  0.0      68   71      75   \n",
       "\n",
       "                     adjustedSPT  SPT_Random  Occupancy  \n",
       "1998-01-01 00:00:00         75.0          73          0  \n",
       "1998-01-01 00:30:00         75.0          71          0  \n",
       "1998-01-01 01:00:00         75.0          72          1  \n",
       "1998-01-01 01:30:00         75.0          68          1  \n",
       "1998-01-01 02:00:00         75.0          69          0  "
      ]
     },
     "execution_count": 33,
     "metadata": {},
     "output_type": "execute_result"
    }
   ],
   "source": [
    "# Read CSV and set date as the index column. Parsing date in a format to avoid confusion and speed up parsing.\n",
    "df_org = pd.read_csv('..\\\\..\\\\data\\\\processed\\\\framework\\\\d2\\\\apt_BC_E_DR.csv', index_col=[0], \\\n",
    "                 parse_dates=True, infer_datetime_format=\"%m/%d/%Y %H:%M:%S\")\n",
    "df_org.head()"
   ]
  },
  {
   "cell_type": "code",
   "execution_count": 34,
   "metadata": {},
   "outputs": [],
   "source": [
    "df = df_org['2018'].copy()"
   ]
  },
  {
   "cell_type": "code",
   "execution_count": 35,
   "metadata": {},
   "outputs": [],
   "source": [
    "feature_set = ['Temperature', 'Dew Point', 'Clothing', 'SR', 'Occupancy']\n",
    "target = 'SPT'"
   ]
  },
  {
   "cell_type": "code",
   "execution_count": 45,
   "metadata": {},
   "outputs": [
    {
     "data": {
      "text/plain": [
       "0.06278538812785388"
      ]
     },
     "execution_count": 45,
     "metadata": {},
     "output_type": "execute_result"
    }
   ],
   "source": [
    "scaler = preprocessing.MinMaxScaler(feature_range = (0, 1))\n",
    "1100/df.shape[0]"
   ]
  },
  {
   "cell_type": "code",
   "execution_count": 37,
   "metadata": {},
   "outputs": [],
   "source": [
    "x_train, x_test, y_train, y_test = train_test_split(\n",
    "   scaler.fit_transform(df[feature_set].astype(int).values),\n",
    "   scaler.fit_transform(df[target].astype(int).values.reshape(-1, 1)),\n",
    "    test_size=1100/df.shape[0]\n",
    ")"
   ]
  },
  {
   "cell_type": "code",
   "execution_count": 38,
   "metadata": {},
   "outputs": [
    {
     "name": "stdout",
     "output_type": "stream",
     "text": [
      "\n",
      "Main information\n",
      "\n",
      "[ALGORITHM] GRNN\n",
      "\n",
      "[OPTION] std = 0.1\n",
      "[OPTION] verbose = True\n",
      "\n"
     ]
    }
   ],
   "source": [
    "nw = algorithms.GRNN(std=0.1, verbose=True)"
   ]
  },
  {
   "cell_type": "code",
   "execution_count": 39,
   "metadata": {},
   "outputs": [],
   "source": [
    "nw.train(x_train, y_train)"
   ]
  },
  {
   "cell_type": "code",
   "execution_count": 40,
   "metadata": {},
   "outputs": [],
   "source": [
    "y_predicted = nw.predict(x_test)"
   ]
  },
  {
   "cell_type": "code",
   "execution_count": 41,
   "metadata": {},
   "outputs": [
    {
     "name": "stdout",
     "output_type": "stream",
     "text": [
      "0.04919376653991967\n"
     ]
    }
   ],
   "source": [
    "mse = np.mean((y_predicted - y_test) ** 2)\n",
    "print(mse)"
   ]
  },
  {
   "cell_type": "code",
   "execution_count": 12,
   "metadata": {},
   "outputs": [],
   "source": [
    "def rmsle(expected, predicted):\n",
    "    log_expected = np.log1p(expected + 1)\n",
    "    log_predicted = np.log1p(predicted + 1)\n",
    "    squared_log_error = np.square(log_expected - log_predicted)\n",
    "    return np.sqrt(np.mean(squared_log_error))\n",
    "\n",
    "\n",
    "def scorer(network, X, y):\n",
    "    result = network.predict(X)\n",
    "    return rmsle(result, y)"
   ]
  },
  {
   "cell_type": "code",
   "execution_count": 13,
   "metadata": {},
   "outputs": [],
   "source": [
    "random_search = RandomizedSearchCV(\n",
    "    algorithms.GRNN(std=0.1, verbose=False),\n",
    "    param_distributions={'std': np.arange(1e-2, 1, 1e-3)},\n",
    "    n_iter=100,\n",
    "    cv=3,\n",
    "    scoring=scorer,\n",
    ")"
   ]
  },
  {
   "cell_type": "code",
   "execution_count": 14,
   "metadata": {},
   "outputs": [
    {
     "data": {
      "text/plain": [
       "RandomizedSearchCV(cv=3, error_score='raise-deprecating',\n",
       "                   estimator=GRNN(verbose=False, std=0.1), iid='warn',\n",
       "                   n_iter=100, n_jobs=None,\n",
       "                   param_distributions={'std': array([0.01 , 0.011, 0.012, 0.013, 0.014, 0.015, 0.016, 0.017, 0.018,\n",
       "       0.019, 0.02 , 0.021, 0.022, 0.023, 0.024, 0.025, 0.026, 0.027,\n",
       "       0.028, 0.029, 0.03 , 0.031, 0.032, 0.033, 0.034, 0.035, 0.036,\n",
       "       0.037, 0.038, 0.039, 0.04 , 0.041,...\n",
       "       0.955, 0.956, 0.957, 0.958, 0.959, 0.96 , 0.961, 0.962, 0.963,\n",
       "       0.964, 0.965, 0.966, 0.967, 0.968, 0.969, 0.97 , 0.971, 0.972,\n",
       "       0.973, 0.974, 0.975, 0.976, 0.977, 0.978, 0.979, 0.98 , 0.981,\n",
       "       0.982, 0.983, 0.984, 0.985, 0.986, 0.987, 0.988, 0.989, 0.99 ,\n",
       "       0.991, 0.992, 0.993, 0.994, 0.995, 0.996, 0.997, 0.998, 0.999])},\n",
       "                   pre_dispatch='2*n_jobs', random_state=None, refit=True,\n",
       "                   return_train_score=False,\n",
       "                   scoring=<function scorer at 0x000001AB7E820E58>, verbose=0)"
      ]
     },
     "execution_count": 14,
     "metadata": {},
     "output_type": "execute_result"
    }
   ],
   "source": [
    "random_search.fit(x_test, y_test)"
   ]
  },
  {
   "cell_type": "code",
   "execution_count": 15,
   "metadata": {},
   "outputs": [],
   "source": [
    "import heapq\n",
    "def report(results, n_top=3):\n",
    "    ranks = heapq.nlargest(n_top, results['rank_test_score'])\n",
    "\n",
    "    for i in ranks:\n",
    "        candidates = np.flatnonzero(results['rank_test_score'] == i)\n",
    "        for candidate in candidates:\n",
    "            print(\"Mean validation score: {0:.3f} (std: {1:.3f})\".format(\n",
    "                  results['mean_test_score'][candidate],\n",
    "                  results['std_test_score'][candidate]))\n",
    "            print(\"Parameters: {0}\".format(results['params'][candidate]))\n",
    "            print(\"\")"
   ]
  },
  {
   "cell_type": "code",
   "execution_count": 24,
   "metadata": {},
   "outputs": [
    {
     "data": {
      "text/plain": [
       "0.9929999999999992"
      ]
     },
     "execution_count": 24,
     "metadata": {},
     "output_type": "execute_result"
    }
   ],
   "source": [
    "random_search.best_params_['std']"
   ]
  },
  {
   "cell_type": "code",
   "execution_count": 16,
   "metadata": {},
   "outputs": [
    {
     "name": "stdout",
     "output_type": "stream",
     "text": [
      "Mean validation score: 0.096 (std: 0.001)\n",
      "Parameters: {'std': 0.052999999999999964}\n",
      "\n",
      "Mean validation score: 0.096 (std: 0.001)\n",
      "Parameters: {'std': 0.04999999999999997}\n",
      "\n",
      "Mean validation score: 0.097 (std: 0.001)\n",
      "Parameters: {'std': 0.04399999999999998}\n",
      "\n"
     ]
    }
   ],
   "source": [
    "report(random_search.cv_results_)"
   ]
  },
  {
   "cell_type": "code",
   "execution_count": 17,
   "metadata": {},
   "outputs": [],
   "source": [
    "df_out = pd.DataFrame(data={\"Predicted\":scaler.inverse_transform(y_predicted.reshape(-1, 1)).reshape(1, -1)[0], \\\n",
    "                   \"Actual\": scaler.inverse_transform(y_test.reshape(-1, 1)).reshape(1, -1)[0]})"
   ]
  },
  {
   "cell_type": "code",
   "execution_count": 28,
   "metadata": {},
   "outputs": [
    {
     "data": {
      "image/png": "[encoded data removed]",
      "text/plain": [
       "<Figure size 576x288 with 1 Axes>"
      ]
     },
     "metadata": {
      "needs_background": "light"
     },
     "output_type": "display_data"
    }
   ],
   "source": [
    "ax = df_out[-1008:].plot(fontsize=14, figsize=(8, 4))\n",
    "ax.set_xlabel(\"Time Axis\", fontsize=14)\n",
    "ax.set_ylabel(\"Set Point Temperature ($^\\circ$C)\", fontsize=14)\n",
    "\n",
    "plt.tick_params(axis='x', which='both', bottom=False, top=False, labelbottom=False)\n",
    "plt.legend(fontsize=15)\n",
    "plt.tight_layout()\n",
    "\n",
    "# plt.savefig('../../output/figures/raw/setpointprediction.jpg')"
   ]
  },
  {
   "cell_type": "code",
   "execution_count": 43,
   "metadata": {},
   "outputs": [
    {
     "data": {
      "text/plain": [
       "0.8304543226558002"
      ]
     },
     "execution_count": 43,
     "metadata": {},
     "output_type": "execute_result"
    }
   ],
   "source": [
    "mse = np.mean((df_out['Predicted'] - df_out['Actual']) ** 2)\n",
    "mse"
   ]
  },
  {
   "cell_type": "code",
   "execution_count": 44,
   "metadata": {},
   "outputs": [
    {
     "data": {
      "text/plain": [
       "1.2276588972725073"
      ]
     },
     "execution_count": 44,
     "metadata": {},
     "output_type": "execute_result"
    }
   ],
   "source": [
    "std = np.std((df_out['Predicted'] - df_out['Actual']) ** 2)\n",
    "std"
   ]
  },
  {
   "cell_type": "code",
   "execution_count": 49,
   "metadata": {},
   "outputs": [
    {
     "data": {
      "text/plain": [
       "0.7089751427924533"
      ]
     },
     "execution_count": 49,
     "metadata": {},
     "output_type": "execute_result"
    }
   ],
   "source": [
    "(df_out['Predicted'] - df_out['Actual']).abs().mean()"
   ]
  },
  {
   "cell_type": "code",
   "execution_count": null,
   "metadata": {},
   "outputs": [],
   "source": []
  }
 ],
 "metadata": {
  "kernelspec": {
   "display_name": "Python 3",
   "language": "python",
   "name": "python3"
  },
  "language_info": {
   "codemirror_mode": {
    "name": "ipython",
    "version": 3
   },
   "file_extension": ".py",
   "mimetype": "text/x-python",
   "name": "python",
   "nbconvert_exporter": "python",
   "pygments_lexer": "ipython3",
   "version": "3.7.7"
  }
 },
 "nbformat": 4,
 "nbformat_minor": 4
}
