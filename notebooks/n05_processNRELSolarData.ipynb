{
 "cells": [
  {
   "cell_type": "code",
   "execution_count": 1,
   "metadata": {},
   "outputs": [],
   "source": [
    "# Import Libraries\n",
    "import glob\n",
    "import pandas as pd"
   ]
  },
  {
   "cell_type": "code",
   "execution_count": 2,
   "metadata": {},
   "outputs": [
    {
     "data": {
      "text/plain": [
       "['..\\\\..\\\\data\\\\raw\\\\weather\\\\nyc\\\\NREL\\\\1246198_40.77_-73.94_1998.csv',\n",
       " '..\\\\..\\\\data\\\\raw\\\\weather\\\\nyc\\\\NREL\\\\1246198_40.77_-73.94_1999.csv',\n",
       " '..\\\\..\\\\data\\\\raw\\\\weather\\\\nyc\\\\NREL\\\\1246198_40.77_-73.94_2000.csv',\n",
       " '..\\\\..\\\\data\\\\raw\\\\weather\\\\nyc\\\\NREL\\\\1246198_40.77_-73.94_2001.csv',\n",
       " '..\\\\..\\\\data\\\\raw\\\\weather\\\\nyc\\\\NREL\\\\1246198_40.77_-73.94_2002.csv',\n",
       " '..\\\\..\\\\data\\\\raw\\\\weather\\\\nyc\\\\NREL\\\\1246198_40.77_-73.94_2003.csv',\n",
       " '..\\\\..\\\\data\\\\raw\\\\weather\\\\nyc\\\\NREL\\\\1246198_40.77_-73.94_2004.csv',\n",
       " '..\\\\..\\\\data\\\\raw\\\\weather\\\\nyc\\\\NREL\\\\1246198_40.77_-73.94_2005.csv',\n",
       " '..\\\\..\\\\data\\\\raw\\\\weather\\\\nyc\\\\NREL\\\\1246198_40.77_-73.94_2006.csv',\n",
       " '..\\\\..\\\\data\\\\raw\\\\weather\\\\nyc\\\\NREL\\\\1246198_40.77_-73.94_2007.csv',\n",
       " '..\\\\..\\\\data\\\\raw\\\\weather\\\\nyc\\\\NREL\\\\1246198_40.77_-73.94_2008.csv',\n",
       " '..\\\\..\\\\data\\\\raw\\\\weather\\\\nyc\\\\NREL\\\\1246198_40.77_-73.94_2009.csv',\n",
       " '..\\\\..\\\\data\\\\raw\\\\weather\\\\nyc\\\\NREL\\\\1246198_40.77_-73.94_2010.csv',\n",
       " '..\\\\..\\\\data\\\\raw\\\\weather\\\\nyc\\\\NREL\\\\1246198_40.77_-73.94_2011.csv',\n",
       " '..\\\\..\\\\data\\\\raw\\\\weather\\\\nyc\\\\NREL\\\\1246198_40.77_-73.94_2012.csv',\n",
       " '..\\\\..\\\\data\\\\raw\\\\weather\\\\nyc\\\\NREL\\\\1246198_40.77_-73.94_2013.csv',\n",
       " '..\\\\..\\\\data\\\\raw\\\\weather\\\\nyc\\\\NREL\\\\1246198_40.77_-73.94_2014.csv',\n",
       " '..\\\\..\\\\data\\\\raw\\\\weather\\\\nyc\\\\NREL\\\\1246198_40.77_-73.94_2015.csv',\n",
       " '..\\\\..\\\\data\\\\raw\\\\weather\\\\nyc\\\\NREL\\\\1246198_40.77_-73.94_2016.csv',\n",
       " '..\\\\..\\\\data\\\\raw\\\\weather\\\\nyc\\\\NREL\\\\1246198_40.77_-73.94_2017.csv',\n",
       " '..\\\\..\\\\data\\\\raw\\\\weather\\\\nyc\\\\NREL\\\\1246198_40.77_-73.94_2018.csv']"
      ]
     },
     "execution_count": 2,
     "metadata": {},
     "output_type": "execute_result"
    }
   ],
   "source": [
    "# Fetch list of files in NREL folder\n",
    "listOfFiles = glob.glob('..\\\\..\\\\data\\\\raw\\\\weather\\\\nyc\\\\NREL\\\\*.csv')\n",
    "listOfFiles = sorted(listOfFiles)\n",
    "listOfFiles"
   ]
  },
  {
   "cell_type": "code",
   "execution_count": 3,
   "metadata": {},
   "outputs": [],
   "source": [
    "# Final merged data frame\n",
    "dfCombined = pd.DataFrame()\n",
    "\n",
    "# For each file - from 1998 till 2018\n",
    "for f in listOfFiles:\n",
    "    \n",
    "    # Read CSV - skip initial two rows\n",
    "    df = pd.read_csv(f, skiprows=2)\n",
    "    \n",
    "    # Convert multiple columns to single datetime format and then set as index\n",
    "    datestr = df[\"Month\"].map(str) + \"/\" + df[\"Day\"].map(str) + \"/\" + df[\"Year\"].map(str) + \" \" + \\\n",
    "                df[\"Hour\"].map(str) + \":\" + df[\"Minute\"].map(str)\n",
    "    df = df.set_index(pd.to_datetime(datestr, format=\"%m/%d/%Y %H:%M\"))\n",
    "    \n",
    "    # Remove columns related to date time\n",
    "    df = df[df.columns[5:]]\n",
    "    \n",
    "    # Add new data to the existing frame\n",
    "    dfCombined = pd.concat([dfCombined, df])"
   ]
  },
  {
   "cell_type": "code",
   "execution_count": 4,
   "metadata": {},
   "outputs": [],
   "source": [
    "# Save CSV in the processed folder\n",
    "dfCombined.to_csv('..\\\\..\\\\data\\\\processed\\\\weather\\\\nycNREL.csv')"
   ]
  },
  {
   "cell_type": "code",
   "execution_count": null,
   "metadata": {},
   "outputs": [],
   "source": []
  }
 ],
 "metadata": {
  "kernelspec": {
   "display_name": "Python 3",
   "language": "python",
   "name": "python3"
  },
  "language_info": {
   "codemirror_mode": {
    "name": "ipython",
    "version": 3
   },
   "file_extension": ".py",
   "mimetype": "text/x-python",
   "name": "python",
   "nbconvert_exporter": "python",
   "pygments_lexer": "ipython3",
   "version": "3.7.4"
  }
 },
 "nbformat": 4,
 "nbformat_minor": 4
}
